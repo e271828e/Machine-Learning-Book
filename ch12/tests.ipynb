{
 "cells": [
  {
   "cell_type": "code",
   "execution_count": 56,
   "metadata": {},
   "outputs": [],
   "source": [
    "import numpy as np\n",
    "import matplotlib.pyplot as plt\n",
    "import torch\n",
    "from torch.utils.data import DataLoader"
   ]
  },
  {
   "cell_type": "code",
   "execution_count": 2,
   "metadata": {},
   "outputs": [
    {
     "name": "stdout",
     "output_type": "stream",
     "text": [
      "Batch 1 tensor([[0.2353, 0.2091, 0.0824, 0.6943],\n",
      "        [0.6934, 0.0930, 0.6006, 0.2243]])\n",
      "Batch 2 tensor([[0.2455, 0.9995, 0.6052, 0.1481],\n",
      "        [0.6448, 0.0877, 0.0251, 0.9881]])\n",
      "Batch 3 tensor([[0.5601, 0.7944, 0.4472, 0.4998],\n",
      "        [0.6367, 0.7676, 0.0102, 0.8888]])\n",
      "Batch 4 tensor([[0.8453, 0.8025, 0.1481, 0.2880],\n",
      "        [0.7378, 0.1766, 0.5985, 0.5706]])\n"
     ]
    }
   ],
   "source": [
    "t = torch.rand(8,4)\n",
    "data_loader = DataLoader(t, batch_size = 2, drop_last = False)\n",
    "for (i, batch) in enumerate(data_loader, 1):\n",
    "    print(f'Batch {i}', batch)\n"
   ]
  },
  {
   "cell_type": "code",
   "execution_count": 3,
   "metadata": {},
   "outputs": [
    {
     "name": "stdout",
     "output_type": "stream",
     "text": [
      "Batch 1 tensor([[0.2353, 0.2091, 0.0824, 0.6943, 0.6934, 0.0930, 0.6006, 0.2243],\n",
      "        [0.2455, 0.9995, 0.6052, 0.1481, 0.6448, 0.0877, 0.0251, 0.9881]])\n",
      "Batch 2 tensor([[0.5601, 0.7944, 0.4472, 0.4998, 0.6367, 0.7676, 0.0102, 0.8888],\n",
      "        [0.8453, 0.8025, 0.1481, 0.2880, 0.7378, 0.1766, 0.5985, 0.5706]])\n",
      "\n",
      "Row: 1 tensor([0.2353, 0.2091, 0.0824, 0.6943, 0.6934, 0.0930, 0.6006, 0.2243])\n",
      "Row: 2 tensor([0.2455, 0.9995, 0.6052, 0.1481, 0.6448, 0.0877, 0.0251, 0.9881])\n",
      "Row: 3 tensor([0.5601, 0.7944, 0.4472, 0.4998, 0.6367, 0.7676, 0.0102, 0.8888])\n",
      "Row: 4 tensor([0.8453, 0.8025, 0.1481, 0.2880, 0.7378, 0.1766, 0.5985, 0.5706])\n"
     ]
    }
   ],
   "source": [
    "#apparently, DataLoader iterates over the rows of the input tensor, which is the same behavior as when we iterate over the tensor itself\n",
    "t_r = torch.reshape(t, [4, 8])\n",
    "data_loader = DataLoader(t_r, batch_size = 2, drop_last = False)\n",
    "for (i, batch) in enumerate(data_loader, 1):\n",
    "    print(f'Batch {i}', batch)\n",
    "\n",
    "print()\n",
    "\n",
    "for (i, row) in enumerate(t_r, 1):\n",
    "    print(f'Row: {i}', row)\n"
   ]
  },
  {
   "cell_type": "code",
   "execution_count": 63,
   "metadata": {},
   "outputs": [
    {
     "name": "stdout",
     "output_type": "stream",
     "text": [
      "torch.Size([8, 4])\n",
      "torch.Size([8])\n",
      "(tensor([0.0293, 0.7999, 0.3971, 0.7544]), tensor(1))\n"
     ]
    }
   ],
   "source": [
    "from torch.utils.data import TensorDataset\n",
    "\n",
    "torch.manual_seed(1)\n",
    "t_x = torch.rand(8, 4)\n",
    "t_y = torch.arange(8)\n",
    "print(t_x.shape)\n",
    "print(t_y.shape)\n",
    "joint_dataset = TensorDataset(t_x, t_y)\n",
    "print(joint_dataset[1]) #returns a tuple of a single row of x and a single element of y\n"
   ]
  },
  {
   "cell_type": "code",
   "execution_count": 5,
   "metadata": {},
   "outputs": [
    {
     "name": "stdout",
     "output_type": "stream",
     "text": [
      "\n",
      "Batch 1 x: tensor([[0.3138, 0.1980, 0.4162, 0.2843],\n",
      "        [0.5725, 0.4980, 0.9371, 0.6556]])\n",
      "Batch 1 y: tensor([5, 4])\n",
      "\n",
      "Batch 2 x: tensor([[0.7576, 0.2793, 0.4031, 0.7347],\n",
      "        [0.0112, 0.8100, 0.6397, 0.9743]])\n",
      "Batch 2 y: tensor([0, 7])\n",
      "\n",
      "Batch 3 x: tensor([[0.5695, 0.4388, 0.6387, 0.5247],\n",
      "        [0.0293, 0.7999, 0.3971, 0.7544]])\n",
      "Batch 3 y: tensor([2, 1])\n",
      "\n",
      "Batch 4 x: tensor([[0.3398, 0.5239, 0.7981, 0.7718],\n",
      "        [0.6826, 0.3051, 0.4635, 0.4550]])\n",
      "Batch 4 y: tensor([6, 3])\n"
     ]
    }
   ],
   "source": [
    "joint_data_loader = DataLoader(joint_dataset, batch_size = 2, shuffle = True, drop_last = False)\n",
    "for (i, batch) in enumerate(joint_data_loader, 1):\n",
    "    print()\n",
    "    print(f'Batch {i} x:', batch[0])\n",
    "    print(f'Batch {i} y:', batch[1])"
   ]
  },
  {
   "cell_type": "code",
   "execution_count": 6,
   "metadata": {},
   "outputs": [
    {
     "name": "stdout",
     "output_type": "stream",
     "text": [
      "epoch 1\n",
      "Batch 1 x: tensor([[0.3138, 0.1980, 0.4162, 0.2843],\n",
      "        [0.5695, 0.4388, 0.6387, 0.5247]])\n",
      "Batch 1 y: tensor([5, 2])\n",
      "Batch 2 x: tensor([[0.0112, 0.8100, 0.6397, 0.9743],\n",
      "        [0.5725, 0.4980, 0.9371, 0.6556]])\n",
      "Batch 2 y: tensor([7, 4])\n",
      "Batch 3 x: tensor([[0.6826, 0.3051, 0.4635, 0.4550],\n",
      "        [0.0293, 0.7999, 0.3971, 0.7544]])\n",
      "Batch 3 y: tensor([3, 1])\n",
      "Batch 4 x: tensor([[0.3398, 0.5239, 0.7981, 0.7718],\n",
      "        [0.7576, 0.2793, 0.4031, 0.7347]])\n",
      "Batch 4 y: tensor([6, 0])\n",
      "epoch 2\n",
      "Batch 1 x: tensor([[0.6826, 0.3051, 0.4635, 0.4550],\n",
      "        [0.3398, 0.5239, 0.7981, 0.7718]])\n",
      "Batch 1 y: tensor([3, 6])\n",
      "Batch 2 x: tensor([[0.7576, 0.2793, 0.4031, 0.7347],\n",
      "        [0.3138, 0.1980, 0.4162, 0.2843]])\n",
      "Batch 2 y: tensor([0, 5])\n",
      "Batch 3 x: tensor([[0.5695, 0.4388, 0.6387, 0.5247],\n",
      "        [0.0112, 0.8100, 0.6397, 0.9743]])\n",
      "Batch 3 y: tensor([2, 7])\n",
      "Batch 4 x: tensor([[0.0293, 0.7999, 0.3971, 0.7544],\n",
      "        [0.5725, 0.4980, 0.9371, 0.6556]])\n",
      "Batch 4 y: tensor([1, 4])\n"
     ]
    }
   ],
   "source": [
    "for epoch in range(2):\n",
    "    print(f'epoch {epoch+1}')\n",
    "    for i, batch in enumerate(joint_data_loader, 1):\n",
    "        print(f'Batch {i} x:', batch[0])\n",
    "        print(f'Batch {i} y:', batch[1])\n"
   ]
  },
  {
   "cell_type": "code",
   "execution_count": 7,
   "metadata": {},
   "outputs": [
    {
     "name": "stdout",
     "output_type": "stream",
     "text": [
      "['cat_dog_images\\\\cat-01.jpg', 'cat_dog_images\\\\cat-02.jpg', 'cat_dog_images\\\\cat-03.jpg', 'cat_dog_images\\\\dog-01.jpg', 'cat_dog_images\\\\dog-02.jpg', 'cat_dog_images\\\\dog-03.jpg']\n"
     ]
    }
   ],
   "source": [
    "import pathlib\n",
    "\n",
    "imgdir_path = pathlib.Path('cat_dog_images')\n",
    "\n",
    "file_list = sorted([str(path) for path in imgdir_path.glob('*.jpg')])\n",
    "print(file_list)\n"
   ]
  },
  {
   "cell_type": "code",
   "execution_count": 53,
   "metadata": {},
   "outputs": [
    {
     "name": "stdout",
     "output_type": "stream",
     "text": [
      "<class 'numpy.ndarray'>\n",
      "<class 'numpy.ndarray'>\n"
     ]
    }
   ],
   "source": [
    "from sklearn.datasets import fetch_openml\n",
    "\n",
    "X_np, y_np = fetch_openml('mnist_784', version = 1, return_X_y = True, as_frame=False, parser='auto')\n",
    "print(type(X_np))\n",
    "print(type(y_np))"
   ]
  },
  {
   "cell_type": "code",
   "execution_count": 55,
   "metadata": {},
   "outputs": [
    {
     "name": "stdout",
     "output_type": "stream",
     "text": [
      "<class 'torch.Tensor'>\n",
      "torch.float32\n",
      "torch.Size([70000, 784])\n",
      "<class 'torch.Tensor'>\n",
      "torch.int64\n",
      "torch.Size([70000])\n"
     ]
    }
   ],
   "source": [
    "X = torch.from_numpy(X_np.astype(np.float32))\n",
    "y = torch.from_numpy(y_np.astype(np.int64))\n",
    "print(type(X))\n",
    "print(X.dtype)\n",
    "print(X.shape)\n",
    "print(type(y))\n",
    "print(y.dtype)\n",
    "print(y.shape)"
   ]
  },
  {
   "cell_type": "code",
   "execution_count": 85,
   "metadata": {},
   "outputs": [
    {
     "name": "stdout",
     "output_type": "stream",
     "text": [
      "56000\n",
      "14000\n"
     ]
    },
    {
     "data": {
      "image/png": "[encoded data removed]",
      "text/plain": [
       "<Figure size 640x480 with 1 Axes>"
      ]
     },
     "metadata": {},
     "output_type": "display_data"
    }
   ],
   "source": [
    "mnist_dataset = TensorDataset(X, y)\n",
    "example, label = mnist_dataset[0]\n",
    "plt.imshow(example.reshape(28, 28))\n",
    "\n",
    "train_split_fraction = 0.2\n",
    "train_len = int(train_split_fraction * len(mnist_dataset))\n",
    "test_len = len(mnist_dataset) - train_len\n",
    "mnist_train_dataset, mnist_test_dataset = torch.utils.data.random_split(mnist_dataset, (test_len, train_len))\n",
    "print(len(mnist_train_dataset))\n",
    "print(len(mnist_test_dataset))"
   ]
  },
  {
   "cell_type": "code",
   "execution_count": 86,
   "metadata": {},
   "outputs": [
    {
     "name": "stdout",
     "output_type": "stream",
     "text": [
      "Batch number 0 contains 10 examples with labels tensor([8, 6, 4, 8, 3, 0, 2, 1, 5, 1])\n",
      "Batch number 1000 contains 10 examples with labels tensor([6, 6, 4, 7, 6, 7, 5, 2, 3, 6])\n",
      "Batch number 2000 contains 10 examples with labels tensor([9, 4, 0, 0, 8, 2, 4, 3, 8, 8])\n",
      "Batch number 3000 contains 10 examples with labels tensor([7, 7, 2, 8, 0, 3, 4, 3, 4, 3])\n",
      "Batch number 4000 contains 10 examples with labels tensor([7, 0, 6, 3, 4, 5, 2, 5, 8, 3])\n",
      "Batch number 5000 contains 10 examples with labels tensor([8, 0, 1, 7, 1, 4, 0, 8, 1, 5])\n"
     ]
    }
   ],
   "source": [
    "mnist_batch_size = 10\n",
    "mnist_sample_loader = DataLoader(mnist_train_dataset, batch_size = mnist_batch_size, shuffle = True, drop_last = False)\n",
    "for (i, batch) in enumerate(mnist_sample_loader, 0):\n",
    "    if i%1000 == 0:\n",
    "        print(f\"Batch number {i} contains {mnist_batch_size} examples with labels {batch[1]}\")"
   ]
  }
 ],
 "metadata": {
  "kernelspec": {
   "display_name": "ml3",
   "language": "python",
   "name": "python3"
  },
  "language_info": {
   "codemirror_mode": {
    "name": "ipython",
    "version": 3
   },
   "file_extension": ".py",
   "mimetype": "text/x-python",
   "name": "python",
   "nbconvert_exporter": "python",
   "pygments_lexer": "ipython3",
   "version": "3.11.4"
  },
  "orig_nbformat": 4
 },
 "nbformat": 4,
 "nbformat_minor": 2
}
