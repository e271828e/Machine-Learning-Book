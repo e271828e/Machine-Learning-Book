{
 "cells": [
  {
   "cell_type": "code",
   "execution_count": 4,
   "metadata": {},
   "outputs": [],
   "source": [
    "import torch\n",
    "from torch.utils.data import DataLoader"
   ]
  },
  {
   "cell_type": "code",
   "execution_count": 6,
   "metadata": {},
   "outputs": [
    {
     "name": "stdout",
     "output_type": "stream",
     "text": [
      "Batch 1 tensor([[0.2333, 0.7105, 0.8091, 0.1045],\n",
      "        [0.6069, 0.6230, 0.6879, 0.5116]])\n",
      "Batch 2 tensor([[0.3139, 0.4432, 0.4330, 0.2257],\n",
      "        [0.0086, 0.6774, 0.8912, 0.6360]])\n",
      "Batch 3 tensor([[0.8942, 0.5758, 0.4397, 0.0579],\n",
      "        [0.3327, 0.6286, 0.8873, 0.1933]])\n",
      "Batch 4 tensor([[0.9312, 0.0545, 0.2930, 0.2586],\n",
      "        [0.6638, 0.3677, 0.4177, 0.5897]])\n"
     ]
    }
   ],
   "source": [
    "t = torch.rand(8,4)\n",
    "data_loader = DataLoader(t, batch_size = 2, drop_last = False)\n",
    "for (i, batch) in enumerate(data_loader, 1):\n",
    "    print(f'Batch {i}', batch)\n"
   ]
  },
  {
   "cell_type": "code",
   "execution_count": 21,
   "metadata": {},
   "outputs": [
    {
     "name": "stdout",
     "output_type": "stream",
     "text": [
      "Batch 1 tensor([[1.0000e+03, 7.1048e-01, 8.0911e-01, 9.9990e+03, 6.0691e-01, 6.2299e-01,\n",
      "         6.8793e-01, 5.1159e-01],\n",
      "        [3.1390e-01, 4.4320e-01, 4.3296e-01, 2.2573e-01, 1.0000e+03, 6.7742e-01,\n",
      "         8.9117e-01, 6.3600e-01]])\n",
      "Batch 2 tensor([[0.8942, 0.5758, 0.4397, 0.0579, 0.3327, 0.6286, 0.8873, 0.1933],\n",
      "        [0.9312, 0.0545, 0.2930, 0.2586, 0.6638, 0.3677, 0.4177, 0.5897]])\n",
      "\n",
      "Row: 1 tensor([1.0000e+03, 7.1048e-01, 8.0911e-01, 9.9990e+03, 6.0691e-01, 6.2299e-01,\n",
      "        6.8793e-01, 5.1159e-01])\n",
      "Row: 2 tensor([3.1390e-01, 4.4320e-01, 4.3296e-01, 2.2573e-01, 1.0000e+03, 6.7742e-01,\n",
      "        8.9117e-01, 6.3600e-01])\n",
      "Row: 3 tensor([0.8942, 0.5758, 0.4397, 0.0579, 0.3327, 0.6286, 0.8873, 0.1933])\n",
      "Row: 4 tensor([0.9312, 0.0545, 0.2930, 0.2586, 0.6638, 0.3677, 0.4177, 0.5897])\n"
     ]
    },
    {
     "ename": "TypeError",
     "evalue": "'DataLoader' object is not subscriptable",
     "output_type": "error",
     "traceback": [
      "\u001b[1;31m---------------------------------------------------------------------------\u001b[0m",
      "\u001b[1;31mTypeError\u001b[0m                                 Traceback (most recent call last)",
      "Cell \u001b[1;32mIn[21], line 12\u001b[0m\n\u001b[0;32m      9\u001b[0m \u001b[39mfor\u001b[39;00m (i, row) \u001b[39min\u001b[39;00m \u001b[39menumerate\u001b[39m(t_r, \u001b[39m1\u001b[39m):\n\u001b[0;32m     10\u001b[0m     \u001b[39mprint\u001b[39m(\u001b[39mf\u001b[39m\u001b[39m'\u001b[39m\u001b[39mRow: \u001b[39m\u001b[39m{\u001b[39;00mi\u001b[39m}\u001b[39;00m\u001b[39m'\u001b[39m, row)\n\u001b[1;32m---> 12\u001b[0m data_loader[\u001b[39m1\u001b[39;49m]\n",
      "\u001b[1;31mTypeError\u001b[0m: 'DataLoader' object is not subscriptable"
     ]
    }
   ],
   "source": [
    "#apparently, DataLoader iterates over the rows of the input tensor, which is the same behavior as when we iterate over the tensor itself\n",
    "t_r = torch.reshape(t, [4, 8])\n",
    "data_loader = DataLoader(t_r, batch_size = 2, drop_last = False)\n",
    "for (i, batch) in enumerate(data_loader, 1):\n",
    "    print(f'Batch {i}', batch)\n",
    "\n",
    "print()\n",
    "\n",
    "for (i, row) in enumerate(t_r, 1):\n",
    "    print(f'Row: {i}', row)\n"
   ]
  },
  {
   "cell_type": "code",
   "execution_count": 52,
   "metadata": {},
   "outputs": [
    {
     "name": "stdout",
     "output_type": "stream",
     "text": [
      "(tensor([0.0293, 0.7999, 0.3971, 0.7544]), tensor(1))\n"
     ]
    }
   ],
   "source": [
    "from torch.utils.data import TensorDataset\n",
    "\n",
    "torch.manual_seed(1)\n",
    "t_x = torch.rand(8, 4)\n",
    "t_y = torch.arange(8)\n",
    "joint_dataset = TensorDataset(t_x, t_y)\n",
    "print(joint_dataset[1]) #returns a tuple of a single row of x and a single element of y\n"
   ]
  },
  {
   "cell_type": "code",
   "execution_count": 53,
   "metadata": {},
   "outputs": [
    {
     "name": "stdout",
     "output_type": "stream",
     "text": [
      "\n",
      "Batch 1 x: tensor([[0.3138, 0.1980, 0.4162, 0.2843],\n",
      "        [0.5725, 0.4980, 0.9371, 0.6556]])\n",
      "Batch 1 y: tensor([5, 4])\n",
      "\n",
      "Batch 2 x: tensor([[0.7576, 0.2793, 0.4031, 0.7347],\n",
      "        [0.0112, 0.8100, 0.6397, 0.9743]])\n",
      "Batch 2 y: tensor([0, 7])\n",
      "\n",
      "Batch 3 x: tensor([[0.5695, 0.4388, 0.6387, 0.5247],\n",
      "        [0.0293, 0.7999, 0.3971, 0.7544]])\n",
      "Batch 3 y: tensor([2, 1])\n",
      "\n",
      "Batch 4 x: tensor([[0.3398, 0.5239, 0.7981, 0.7718],\n",
      "        [0.6826, 0.3051, 0.4635, 0.4550]])\n",
      "Batch 4 y: tensor([6, 3])\n"
     ]
    }
   ],
   "source": [
    "joint_data_loader = DataLoader(joint_dataset, batch_size = 2, shuffle = True, drop_last = False)\n",
    "for (i, batch) in enumerate(joint_data_loader, 1):\n",
    "    print()\n",
    "    print(f'Batch {i} x:', batch[0])\n",
    "    print(f'Batch {i} y:', batch[1])"
   ]
  },
  {
   "cell_type": "code",
   "execution_count": 54,
   "metadata": {},
   "outputs": [
    {
     "name": "stdout",
     "output_type": "stream",
     "text": [
      "epoch 1\n",
      "Batch 1 x: tensor([[0.3138, 0.1980, 0.4162, 0.2843],\n",
      "        [0.5695, 0.4388, 0.6387, 0.5247]])\n",
      "Batch 1 y: tensor([5, 2])\n",
      "Batch 2 x: tensor([[0.0112, 0.8100, 0.6397, 0.9743],\n",
      "        [0.5725, 0.4980, 0.9371, 0.6556]])\n",
      "Batch 2 y: tensor([7, 4])\n",
      "Batch 3 x: tensor([[0.6826, 0.3051, 0.4635, 0.4550],\n",
      "        [0.0293, 0.7999, 0.3971, 0.7544]])\n",
      "Batch 3 y: tensor([3, 1])\n",
      "Batch 4 x: tensor([[0.3398, 0.5239, 0.7981, 0.7718],\n",
      "        [0.7576, 0.2793, 0.4031, 0.7347]])\n",
      "Batch 4 y: tensor([6, 0])\n",
      "epoch 2\n",
      "Batch 1 x: tensor([[0.6826, 0.3051, 0.4635, 0.4550],\n",
      "        [0.3398, 0.5239, 0.7981, 0.7718]])\n",
      "Batch 1 y: tensor([3, 6])\n",
      "Batch 2 x: tensor([[0.7576, 0.2793, 0.4031, 0.7347],\n",
      "        [0.3138, 0.1980, 0.4162, 0.2843]])\n",
      "Batch 2 y: tensor([0, 5])\n",
      "Batch 3 x: tensor([[0.5695, 0.4388, 0.6387, 0.5247],\n",
      "        [0.0112, 0.8100, 0.6397, 0.9743]])\n",
      "Batch 3 y: tensor([2, 7])\n",
      "Batch 4 x: tensor([[0.0293, 0.7999, 0.3971, 0.7544],\n",
      "        [0.5725, 0.4980, 0.9371, 0.6556]])\n",
      "Batch 4 y: tensor([1, 4])\n"
     ]
    }
   ],
   "source": [
    "for epoch in range(2):\n",
    "    print(f'epoch {epoch+1}')\n",
    "    for i, batch in enumerate(joint_data_loader, 1):\n",
    "        print(f'Batch {i} x:', batch[0])\n",
    "        print(f'Batch {i} y:', batch[1])\n"
   ]
  },
  {
   "cell_type": "code",
   "execution_count": 63,
   "metadata": {},
   "outputs": [
    {
     "name": "stdout",
     "output_type": "stream",
     "text": [
      "['cat_dog_images\\\\cat-01.jpg', 'cat_dog_images\\\\cat-02.jpg', 'cat_dog_images\\\\cat-03.jpg', 'cat_dog_images\\\\dog-01.jpg', 'cat_dog_images\\\\dog-02.jpg', 'cat_dog_images\\\\dog-03.jpg']\n"
     ]
    }
   ],
   "source": [
    "import pathlib\n",
    "\n",
    "imgdir_path = pathlib.Path('cat_dog_images')\n",
    "\n",
    "file_list = sorted([str(path) for path in imgdir_path.glob('*.jpg')])\n",
    "print(file_list)\n"
   ]
  }
 ],
 "metadata": {
  "kernelspec": {
   "display_name": "ml3",
   "language": "python",
   "name": "python3"
  },
  "language_info": {
   "codemirror_mode": {
    "name": "ipython",
    "version": 3
   },
   "file_extension": ".py",
   "mimetype": "text/x-python",
   "name": "python",
   "nbconvert_exporter": "python",
   "pygments_lexer": "ipython3",
   "version": "3.11.4"
  },
  "orig_nbformat": 4
 },
 "nbformat": 4,
 "nbformat_minor": 2
}
